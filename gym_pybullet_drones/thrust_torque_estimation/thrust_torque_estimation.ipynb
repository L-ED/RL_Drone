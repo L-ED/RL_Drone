{
 "cells": [
  {
   "cell_type": "code",
   "execution_count": 3,
   "metadata": {},
   "outputs": [],
   "source": [
    "import numpy as np\n",
    "import matplotlib.pyplot as plt\n",
    "import csv"
   ]
  },
  {
   "cell_type": "code",
   "execution_count": 4,
   "metadata": {},
   "outputs": [],
   "source": [
    "file_path = '/home/led/Simulators/Bullet/gym-pybullet-drones/gym_pybullet_drones/thrust_torque_estimation/Testing Motor of the Quadcopter 2 - Clothilde HUMBLOT.csv'\n",
    "with open(file_path, 'r') as f:\n",
    "    reader = csv.reader(f)\n",
    "    title = next(reader)\n",
    "    rpm =[]\n",
    "    thrust = []\n",
    "    torque = []\n",
    "    for row in reader:\n",
    "        rpm.append(float(row[2])) \n",
    "        thrust.append(float(row[3])*9.8) \n",
    "        torque.append(float(row[4])) "
   ]
  },
  {
   "cell_type": "code",
   "execution_count": 11,
   "metadata": {},
   "outputs": [],
   "source": [
    "rpm = np.asarray(rpm)\n",
    "thrust = np.asarray(thrust)\n",
    "torque = np.asarray(torque)"
   ]
  },
  {
   "cell_type": "code",
   "execution_count": 12,
   "metadata": {},
   "outputs": [
    {
     "data": {
      "text/plain": [
       "<matplotlib.collections.PathCollection at 0x7fbb3e9f3890>"
      ]
     },
     "execution_count": 12,
     "metadata": {},
     "output_type": "execute_result"
    },
    {
     "data": {
      "image/png": "[encoded data removed]",
      "text/plain": [
       "<Figure size 640x480 with 1 Axes>"
      ]
     },
     "metadata": {},
     "output_type": "display_data"
    }
   ],
   "source": [
    "plt.scatter(rpm**2, thrust)"
   ]
  },
  {
   "cell_type": "code",
   "execution_count": 5,
   "metadata": {},
   "outputs": [
    {
     "data": {
      "text/plain": [
       "[-0.002344802073401635,\n",
       " 0.10449105910198225,\n",
       " 0.24353838939865377,\n",
       " 0.4306400417691767,\n",
       " 0.6448175053007403,\n",
       " 0.8601612011152776,\n",
       " 1.1351534458714874,\n",
       " 1.425395163982598,\n",
       " 1.6633375971690927,\n",
       " 1.9342125173335525,\n",
       " 2.1892398932390593,\n",
       " 2.484469692178936,\n",
       " 2.8247987193261004,\n",
       " 3.1739697672492957,\n",
       " 3.5625521454324143,\n",
       " 3.9552973793833477,\n",
       " 4.318822476409837,\n",
       " 4.657002581817497,\n",
       " 4.802097292776202,\n",
       " 4.737423040034377,\n",
       " 4.741607477074657]"
      ]
     },
     "execution_count": 5,
     "metadata": {},
     "output_type": "execute_result"
    }
   ],
   "source": [
    "thrust"
   ]
  },
  {
   "cell_type": "code",
   "execution_count": 14,
   "metadata": {},
   "outputs": [
    {
     "name": "stderr",
     "output_type": "stream",
     "text": [
      "/tmp/ipykernel_361916/3962217637.py:1: RuntimeWarning: divide by zero encountered in divide\n",
      "  thrust_koef = thrust/(rpm**2)\n"
     ]
    }
   ],
   "source": [
    "thrust_koef = thrust/(rpm**2)"
   ]
  },
  {
   "cell_type": "code",
   "execution_count": 29,
   "metadata": {},
   "outputs": [
    {
     "data": {
      "text/plain": [
       "array([          -inf, 1.29734161e-08, 1.67419504e-08, 1.89030351e-08,\n",
       "       1.95301499e-08, 1.97525692e-08, 1.98561980e-08, 1.98124756e-08,\n",
       "       1.94442343e-08, 1.97747775e-08, 1.96730080e-08, 1.94777208e-08,\n",
       "       1.96428395e-08, 1.96075681e-08, 1.95563019e-08, 1.96128762e-08,\n",
       "       1.95713165e-08, 1.96365432e-08, 1.96467509e-08, 1.93995182e-08,\n",
       "       1.95114293e-08])"
      ]
     },
     "execution_count": 29,
     "metadata": {},
     "output_type": "execute_result"
    }
   ],
   "source": [
    "thrust_koef"
   ]
  },
  {
   "cell_type": "code",
   "execution_count": 28,
   "metadata": {},
   "outputs": [
    {
     "data": {
      "text/plain": [
       "(1.958944229217884e-08, 1.9106233942396728e-08)"
      ]
     },
     "execution_count": 28,
     "metadata": {},
     "output_type": "execute_result"
    }
   ],
   "source": [
    "np.median(thrust_koef[1:]), np.mean(thrust_koef[1:])"
   ]
  },
  {
   "cell_type": "code",
   "execution_count": 30,
   "metadata": {},
   "outputs": [
    {
     "data": {
      "text/plain": [
       "(1.9607568067338322e-08, 1.942901382675374e-08)"
      ]
     },
     "execution_count": 30,
     "metadata": {},
     "output_type": "execute_result"
    }
   ],
   "source": [
    "np.median(thrust_koef[2:]), np.mean(thrust_koef[2:])"
   ]
  },
  {
   "cell_type": "code",
   "execution_count": 23,
   "metadata": {},
   "outputs": [],
   "source": [
    "Y = thrust[1:]\n",
    "X = rpm[1:]**2\n",
    "# np.linalg.inv(X.T@X)@X.T@Y"
   ]
  },
  {
   "cell_type": "code",
   "execution_count": 32,
   "metadata": {},
   "outputs": [
    {
     "data": {
      "text/plain": [
       "1.9571039361605604e-08"
      ]
     },
     "execution_count": 32,
     "metadata": {},
     "output_type": "execute_result"
    }
   ],
   "source": [
    "(X.T@Y)/(X.T@X)"
   ]
  },
  {
   "cell_type": "code",
   "execution_count": 37,
   "metadata": {},
   "outputs": [
    {
     "data": {
      "text/plain": [
       "<matplotlib.collections.PathCollection at 0x7fbb3e9ac550>"
      ]
     },
     "execution_count": 37,
     "metadata": {},
     "output_type": "execute_result"
    },
    {
     "data": {
      "image/png": "[encoded data removed]",
      "text/plain": [
       "<Figure size 640x480 with 1 Axes>"
      ]
     },
     "metadata": {},
     "output_type": "display_data"
    }
   ],
   "source": [
    "plt.scatter(rpm**2, torque)"
   ]
  },
  {
   "cell_type": "code",
   "execution_count": 33,
   "metadata": {},
   "outputs": [
    {
     "name": "stderr",
     "output_type": "stream",
     "text": [
      "/tmp/ipykernel_361916/851299916.py:1: RuntimeWarning: divide by zero encountered in divide\n",
      "  torque_koef = torque/(rpm**2)\n"
     ]
    }
   ],
   "source": [
    "torque_koef = torque/(rpm**2)"
   ]
  },
  {
   "cell_type": "code",
   "execution_count": 35,
   "metadata": {},
   "outputs": [
    {
     "data": {
      "text/plain": [
       "array([           inf, 2.51305472e-10, 2.58626977e-10, 2.59330787e-10,\n",
       "       2.52939326e-10, 2.51740734e-10, 2.47092870e-10, 2.44211742e-10,\n",
       "       2.39128222e-10, 2.43394944e-10, 2.44884463e-10, 2.42818764e-10,\n",
       "       2.44488146e-10, 2.43049300e-10, 2.39989586e-10, 2.40881292e-10,\n",
       "       2.40007719e-10, 2.41971779e-10, 2.42665198e-10, 2.38621511e-10,\n",
       "       2.41380365e-10])"
      ]
     },
     "execution_count": 35,
     "metadata": {},
     "output_type": "execute_result"
    }
   ],
   "source": [
    "torque_koef"
   ]
  },
  {
   "cell_type": "code",
   "execution_count": 39,
   "metadata": {},
   "outputs": [
    {
     "data": {
      "text/plain": [
       "2.415297086366263e-10"
      ]
     },
     "execution_count": 39,
     "metadata": {},
     "output_type": "execute_result"
    }
   ],
   "source": [
    "Y = torque[1:]\n",
    "X = rpm[1:]**2\n",
    "\n",
    "(X.T@Y)/(X.T@X)"
   ]
  }
 ],
 "metadata": {
  "kernelspec": {
   "display_name": "base",
   "language": "python",
   "name": "python3"
  },
  "language_info": {
   "codemirror_mode": {
    "name": "ipython",
    "version": 3
   },
   "file_extension": ".py",
   "mimetype": "text/x-python",
   "name": "python",
   "nbconvert_exporter": "python",
   "pygments_lexer": "ipython3",
   "version": "3.11.4"
  }
 },
 "nbformat": 4,
 "nbformat_minor": 2
}
