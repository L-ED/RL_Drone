{
 "cells": [
  {
   "cell_type": "code",
   "execution_count": 2,
   "metadata": {},
   "outputs": [],
   "source": [
    "from gymnasium import spaces\n",
    "import numpy as np"
   ]
  },
  {
   "cell_type": "code",
   "execution_count": 3,
   "metadata": {},
   "outputs": [
    {
     "name": "stderr",
     "output_type": "stream",
     "text": [
      "/home/led/miniconda3/lib/python3.11/site-packages/gymnasium/spaces/box.py:130: UserWarning: \u001b[33mWARN: Box bound precision lowered by casting to float32\u001b[0m\n",
      "  gym.logger.warn(f\"Box bound precision lowered by casting to {self.dtype}\")\n"
     ]
    }
   ],
   "source": [
    "actionSpace = spaces.Box(\n",
    "            low=np.zeros(4),\n",
    "            high=np.ones(4),\n",
    "            dtype=np.float32\n",
    "        )"
   ]
  },
  {
   "cell_type": "code",
   "execution_count": 12,
   "metadata": {},
   "outputs": [
    {
     "data": {
      "text/plain": [
       "Box(0.0, 1.0, (4,), float32)"
      ]
     },
     "execution_count": 12,
     "metadata": {},
     "output_type": "execute_result"
    }
   ],
   "source": [
    "actionSpace"
   ]
  },
  {
   "cell_type": "code",
   "execution_count": 11,
   "metadata": {},
   "outputs": [
    {
     "name": "stderr",
     "output_type": "stream",
     "text": [
      "/home/led/miniconda3/lib/python3.11/site-packages/gymnasium/spaces/box.py:130: UserWarning: \u001b[33mWARN: Box bound precision lowered by casting to float32\u001b[0m\n",
      "  gym.logger.warn(f\"Box bound precision lowered by casting to {self.dtype}\")\n"
     ]
    },
    {
     "data": {
      "text/plain": [
       "Box(0.0, 1.0, (4,), float32)"
      ]
     },
     "execution_count": 11,
     "metadata": {},
     "output_type": "execute_result"
    }
   ],
   "source": [
    "spaces.Box(\n",
    "            low=np.zeros(actionSpace.shape),\n",
    "            high=np.ones(actionSpace.shape),\n",
    "            dtype=np.float32\n",
    "        )"
   ]
  },
  {
   "cell_type": "code",
   "execution_count": 5,
   "metadata": {},
   "outputs": [
    {
     "name": "stderr",
     "output_type": "stream",
     "text": [
      "pybullet build time: Sep 27 2023 23:43:15\n",
      "/home/led/miniconda3/lib/python3.11/site-packages/gymnasium/spaces/box.py:130: UserWarning: \u001b[33mWARN: Box bound precision lowered by casting to float32\u001b[0m\n",
      "  gym.logger.warn(f\"Box bound precision lowered by casting to {self.dtype}\")\n"
     ]
    },
    {
     "name": "stdout",
     "output_type": "stream",
     "text": [
      "AXS 0.0794\n",
      "CAM VIS\n"
     ]
    },
    {
     "data": {
      "image/png": "[encoded data removed]",
      "text/plain": [
       "<Figure size 640x480 with 1 Axes>"
      ]
     },
     "metadata": {},
     "output_type": "display_data"
    }
   ],
   "source": [
    "import numpy as np\n",
    "import pybullet as pb\n",
    "\n",
    "from gym_pybullet_drones.vehicles import QuadCopter\n",
    "from gym_pybullet_drones.devices import Camera, mpu6000\n",
    "from gym_pybullet_drones.envs import Base\n",
    "from gym_pybullet_drones.utils.state import State\n",
    "\n",
    "from gym_pybullet_drones.utils.utils import sync, str2bool\n",
    "import time\n",
    "\n",
    "\n",
    "# def run():\n",
    "client = pb.connect(pb.DIRECT)\n",
    "\n",
    "sensors= [\n",
    "    Camera(\n",
    "        image_size = [640, 480],\n",
    "        fov= 60,\n",
    "        displ = np.array([0, 0, 0.1]),\n",
    "        frequency = 60\n",
    "    ),\n",
    "    mpu6000()\n",
    "    ]\n",
    "\n",
    "state = State()\n",
    "state.world.pos[2] += 0.1\n",
    "\n",
    "drone = QuadCopter(\n",
    "    client=client,\n",
    "    filename= 'custom.urdf',#'cf2x_cam.urdf',\n",
    "    # sensors = [],\n",
    "    sensors = sensors,\n",
    "    state=state)\n",
    "\n",
    "env = Base(\n",
    "        client=client,\n",
    "        drone=drone,\n",
    "        control_system=None\n",
    "    )"
   ]
  },
  {
   "cell_type": "code",
   "execution_count": 6,
   "metadata": {},
   "outputs": [
    {
     "data": {
      "text/plain": [
       "ItemsView(Dict('IMU_0': Box(-inf, inf, (1, 3), float32), 'camera_0': Tuple(Box(-inf, inf, (480, 640, 4), float32), Box(-inf, inf, (480, 640), float32), Box(-inf, inf, (480, 640), float32))))"
      ]
     },
     "execution_count": 6,
     "metadata": {},
     "output_type": "execute_result"
    }
   ],
   "source": [
    "env.observation_space.items()"
   ]
  },
  {
   "cell_type": "code",
   "execution_count": 8,
   "metadata": {},
   "outputs": [
    {
     "data": {
      "text/plain": [
       "Box(0.0, 1.0, (4,), float32)"
      ]
     },
     "execution_count": 8,
     "metadata": {},
     "output_type": "execute_result"
    }
   ],
   "source": [
    "env.action_space"
   ]
  },
  {
   "cell_type": "code",
   "execution_count": 15,
   "metadata": {},
   "outputs": [
    {
     "data": {
      "text/plain": [
       "array([1., 1., 1., 1., 1., 1.])"
      ]
     },
     "execution_count": 15,
     "metadata": {},
     "output_type": "execute_result"
    }
   ],
   "source": [
    "np.concatenate((np.ones((3,)), np.ones((3,))))"
   ]
  },
  {
   "cell_type": "code",
   "execution_count": 7,
   "metadata": {},
   "outputs": [
    {
     "name": "stdout",
     "output_type": "stream",
     "text": [
      "IMU_0 Box(-inf, inf, (1, 3), float32)\n",
      "camera_0 Tuple(Box(-inf, inf, (480, 640, 4), float32), Box(-inf, inf, (480, 640), float32), Box(-inf, inf, (480, 640), float32))\n"
     ]
    }
   ],
   "source": [
    "isinstance(env.observation_space, spaces.Dict)\n",
    "\n",
    "if isinstance(env.observation_space, spaces.Dict):\n",
    "    for k, v in env.observation_space.items():\n",
    "        # env.observation_space[k] = \n",
    "        print(k, v)"
   ]
  }
 ],
 "metadata": {
  "kernelspec": {
   "display_name": "base",
   "language": "python",
   "name": "python3"
  },
  "language_info": {
   "codemirror_mode": {
    "name": "ipython",
    "version": 3
   },
   "file_extension": ".py",
   "mimetype": "text/x-python",
   "name": "python",
   "nbconvert_exporter": "python",
   "pygments_lexer": "ipython3",
   "version": "3.11.4"
  }
 },
 "nbformat": 4,
 "nbformat_minor": 2
}
