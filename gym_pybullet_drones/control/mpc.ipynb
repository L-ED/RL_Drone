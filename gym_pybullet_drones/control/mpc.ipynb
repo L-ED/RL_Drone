{
 "cells": [
  {
   "cell_type": "code",
   "execution_count": 1,
   "metadata": {},
   "outputs": [
    {
     "name": "stderr",
     "output_type": "stream",
     "text": [
      "/home/led/miniconda3/lib/python3.11/site-packages/do_mpc/sysid/__init__.py:15: UserWarning: The ONNX feature is not available. Please install the full version of do-mpc to access this feature.\n",
      "  warnings.warn('The ONNX feature is not available. Please install the full version of do-mpc to access this feature.')\n",
      "/home/led/miniconda3/lib/python3.11/site-packages/do_mpc/opcua/__init__.py:14: UserWarning: The opcua feature is not available. Please install the full version of do-mpc to access this feature.\n",
      "  warnings.warn('The opcua feature is not available. Please install the full version of do-mpc to access this feature.')\n"
     ]
    }
   ],
   "source": [
    "import do_mpc\n",
    "from casadi import vertcat, cross, SX, MX, norm_fro"
   ]
  },
  {
   "cell_type": "code",
   "execution_count": 2,
   "metadata": {},
   "outputs": [],
   "source": [
    "import numpy as np"
   ]
  },
  {
   "cell_type": "code",
   "execution_count": 3,
   "metadata": {},
   "outputs": [],
   "source": [
    "C_t = 0.112\n",
    "C_f = 0.98\n",
    "m = 1\n",
    "\n",
    "model_type = 'continuous'\n",
    "model = do_mpc.model.Model(model_type, symvar_type='MX')\n",
    "rps = model.set_variable(var_type='_u', var_name='rps', shape=(4, 1))\n",
    "\n",
    "vel = model.set_variable(var_type='_x', var_name='vel', shape=(3, 1))\n",
    "# ang_acc = model.set_variable(var_type='_x', var_name='ang_acc', shape=(3, 1))\n",
    "\n",
    "targ_vec = model.set_variable(var_type='_x', var_name='targ', shape=(3, 1))\n",
    "\n",
    "\n",
    "ang_vel = model.set_variable(var_type='_x', var_name='ang_vel', shape=(3, 1))\n",
    "moments = model.set_variable(var_type='_x', var_name='moments', shape=(3, 1))\n",
    "# forces = model.set_variable(var_type='_x', var_name='forces', shape=(3, 1))\n",
    "\n",
    "acc_eq = vertcat(\n",
    "    0, 0, \n",
    "    # C_f*(rps[0]**2+rps[1]**2+rps[2]**2+rps[3]**2)/m \n",
    "    C_f*MX.ones(1, 4)@(rps**2)/m\n",
    ")\n",
    "model.set_rhs(\"vel\", acc_eq)\n",
    "\n",
    "x_dir = MX([-1, 1, -1, 1])\n",
    "y_dir = MX([-1, -1, 1, 1])\n",
    "z_dir = MX([-1, 1, 1, -1])\n",
    "\n",
    "I = np.array([\n",
    "    [1, 0, 0],\n",
    "    [0, 1, 0],\n",
    "    [0, 0, 1]\n",
    "])\n",
    "\n",
    "I_inv = np.linalg.inv(I)\n",
    "\n",
    "moments_eq = vertcat(\n",
    "    x_dir.T@(C_f*rps**2), \n",
    "    y_dir.T@(C_f*rps**2), \n",
    "    z_dir.T@(C_t*rps**2), \n",
    ")\n",
    "model.set_rhs(\"moments\", moments_eq)\n",
    "\n",
    "ang_acc_eq = I_inv@(moments - cross(ang_vel, I@ang_vel))\n",
    "model.set_rhs(\"ang_vel\", ang_acc_eq)\n",
    "\n",
    "model.setup()"
   ]
  },
  {
   "cell_type": "code",
   "execution_count": 20,
   "metadata": {},
   "outputs": [],
   "source": [
    "desired_vector = np.array([0, 0, 1])\n",
    "\n",
    "mpc = do_mpc.controller.MPC(model)\n",
    "\n",
    "setup_mpc = {\n",
    "    'n_horizon': 20,\n",
    "    't_step': 0.1,\n",
    "    'n_robust': 1,\n",
    "    'store_full_solution': True,\n",
    "}\n",
    "mpc.set_param(**setup_mpc)\n",
    "\n",
    "vel_dir = vel/norm_fro(vel)\n",
    "# vel_dir = vel_/np.linalg.norm(vel_)\n",
    "term = vel_dir.T@desired_vector\n",
    "\n",
    "mpc.set_objective(mterm=term, lterm=term)\n",
    "mpc.set_rterm(\n",
    "    rps = np.array([0.001, 0.01, 0.01, 0.01])\n",
    ")\n",
    "mpc.setup()\n",
    "\n"
   ]
  },
  {
   "cell_type": "code",
   "execution_count": 15,
   "metadata": {},
   "outputs": [],
   "source": [
    "estimator = do_mpc.estimator.StateFeedback(model)\n",
    "simulator = do_mpc.simulator.Simulator(model)\n",
    "simulator.set_param(t_step = 0.1)\n",
    "simulator.setup()"
   ]
  },
  {
   "cell_type": "code",
   "execution_count": 16,
   "metadata": {},
   "outputs": [],
   "source": [
    "x0 = np.zeros((9,1))"
   ]
  },
  {
   "cell_type": "code",
   "execution_count": 17,
   "metadata": {},
   "outputs": [],
   "source": [
    "simulator.x0 = x0\n",
    "mpc.x0 = x0"
   ]
  },
  {
   "cell_type": "code",
   "execution_count": 18,
   "metadata": {},
   "outputs": [
    {
     "ename": "AssertionError",
     "evalue": "MPC was not setup yet. Please call MPC.setup().",
     "output_type": "error",
     "traceback": [
      "\u001b[0;31m---------------------------------------------------------------------------\u001b[0m",
      "\u001b[0;31mAssertionError\u001b[0m                            Traceback (most recent call last)",
      "\u001b[1;32m/home/led/Simulators/Bullet/gym-pybullet-drones/gym_pybullet_drones/control/mpc.ipynb Cell 18\u001b[0m line \u001b[0;36m1\n\u001b[0;32m----> <a href='vscode-notebook-cell:/home/led/Simulators/Bullet/gym-pybullet-drones/gym_pybullet_drones/control/mpc.ipynb#X23sZmlsZQ%3D%3D?line=0'>1</a>\u001b[0m mpc\u001b[39m.\u001b[39;49mset_initial_guess()\n",
      "File \u001b[0;32m~/miniconda3/lib/python3.11/site-packages/do_mpc/controller/_mpc.py:885\u001b[0m, in \u001b[0;36mMPC.set_initial_guess\u001b[0;34m(self)\u001b[0m\n\u001b[1;32m    873\u001b[0m \u001b[39mdef\u001b[39;00m \u001b[39mset_initial_guess\u001b[39m(\u001b[39mself\u001b[39m)\u001b[39m-\u001b[39m\u001b[39m>\u001b[39m\u001b[39mNone\u001b[39;00m:\n\u001b[1;32m    874\u001b[0m \u001b[39m    \u001b[39m\u001b[39m\"\"\"Initial guess for optimization variables.\u001b[39;00m\n\u001b[1;32m    875\u001b[0m \u001b[39m    Uses the current class attributes :py:attr:`x0`, :py:attr:`z0` and :py:attr:`u0` to create the initial guess.\u001b[39;00m\n\u001b[1;32m    876\u001b[0m \u001b[39m    The initial guess is simply the initial values for all :math:`k=0,\\dots,N` instances of :math:`x_k`, :math:`u_k` and :math:`z_k`.\u001b[39;00m\n\u001b[0;32m   (...)\u001b[0m\n\u001b[1;32m    883\u001b[0m \u001b[39m        :py:attr:`opt_x_num`.\u001b[39;00m\n\u001b[1;32m    884\u001b[0m \u001b[39m    \"\"\"\u001b[39;00m\n\u001b[0;32m--> 885\u001b[0m     \u001b[39massert\u001b[39;00m \u001b[39mself\u001b[39m\u001b[39m.\u001b[39mflags[\u001b[39m'\u001b[39m\u001b[39msetup\u001b[39m\u001b[39m'\u001b[39m] \u001b[39m==\u001b[39m \u001b[39mTrue\u001b[39;00m, \u001b[39m'\u001b[39m\u001b[39mMPC was not setup yet. Please call MPC.setup().\u001b[39m\u001b[39m'\u001b[39m\n\u001b[1;32m    887\u001b[0m     \u001b[39mself\u001b[39m\u001b[39m.\u001b[39mopt_x_num[\u001b[39m'\u001b[39m\u001b[39m_x\u001b[39m\u001b[39m'\u001b[39m] \u001b[39m=\u001b[39m \u001b[39mself\u001b[39m\u001b[39m.\u001b[39m_x0\u001b[39m.\u001b[39mcat\u001b[39m/\u001b[39m\u001b[39mself\u001b[39m\u001b[39m.\u001b[39m_x_scaling\n\u001b[1;32m    888\u001b[0m     \u001b[39mself\u001b[39m\u001b[39m.\u001b[39mopt_x_num[\u001b[39m'\u001b[39m\u001b[39m_u\u001b[39m\u001b[39m'\u001b[39m] \u001b[39m=\u001b[39m \u001b[39mself\u001b[39m\u001b[39m.\u001b[39m_u0\u001b[39m.\u001b[39mcat\u001b[39m/\u001b[39m\u001b[39mself\u001b[39m\u001b[39m.\u001b[39m_u_scaling\n",
      "\u001b[0;31mAssertionError\u001b[0m: MPC was not setup yet. Please call MPC.setup()."
     ]
    }
   ],
   "source": [
    "mpc.set_initial_guess()"
   ]
  }
 ],
 "metadata": {
  "kernelspec": {
   "display_name": "base",
   "language": "python",
   "name": "python3"
  },
  "language_info": {
   "codemirror_mode": {
    "name": "ipython",
    "version": 3
   },
   "file_extension": ".py",
   "mimetype": "text/x-python",
   "name": "python",
   "nbconvert_exporter": "python",
   "pygments_lexer": "ipython3",
   "version": "3.11.4"
  }
 },
 "nbformat": 4,
 "nbformat_minor": 2
}
